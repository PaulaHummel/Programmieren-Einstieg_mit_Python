{
 "cells": [
  {
   "cell_type": "code",
   "execution_count": 8,
   "id": "4d2b7371-1407-472a-8664-42d51c94788a",
   "metadata": {},
   "outputs": [
    {
     "name": "stdout",
     "output_type": "stream",
     "text": [
      "Ich denke mir eine Zahl zwischen 1 und 100. Rate sie!\n"
     ]
    },
    {
     "name": "stdin",
     "output_type": "stream",
     "text": [
      "Gib deinen Tipp ein:  1\n"
     ]
    },
    {
     "name": "stdout",
     "output_type": "stream",
     "text": [
      "Zu klein!\n"
     ]
    },
    {
     "name": "stdin",
     "output_type": "stream",
     "text": [
      "Gib deinen Tipp ein:  50\n"
     ]
    },
    {
     "name": "stdout",
     "output_type": "stream",
     "text": [
      "Zu groß!\n"
     ]
    },
    {
     "name": "stdin",
     "output_type": "stream",
     "text": [
      "Gib deinen Tipp ein:  20\n"
     ]
    },
    {
     "name": "stdout",
     "output_type": "stream",
     "text": [
      "Zu klein!\n"
     ]
    },
    {
     "name": "stdin",
     "output_type": "stream",
     "text": [
      "Gib deinen Tipp ein:  30\n"
     ]
    },
    {
     "name": "stdout",
     "output_type": "stream",
     "text": [
      "Zu klein!\n"
     ]
    },
    {
     "name": "stdin",
     "output_type": "stream",
     "text": [
      "Gib deinen Tipp ein:  40\n"
     ]
    },
    {
     "name": "stdout",
     "output_type": "stream",
     "text": [
      "Zu groß!\n"
     ]
    },
    {
     "name": "stdin",
     "output_type": "stream",
     "text": [
      "Gib deinen Tipp ein:  35\n"
     ]
    },
    {
     "name": "stdout",
     "output_type": "stream",
     "text": [
      "Zu groß!\n"
     ]
    },
    {
     "name": "stdin",
     "output_type": "stream",
     "text": [
      "Gib deinen Tipp ein:  33\n"
     ]
    },
    {
     "name": "stdout",
     "output_type": "stream",
     "text": [
      " Richtig! Du hast die Zahl in 7 Versuchen erraten.\n"
     ]
    }
   ],
   "source": [
    "# Übung: Zahlenraten-Spiel\n",
    "# Der Computer denkt sich eine Zahl zwischen 1 und 100 aus.\n",
    "# Der Benutzer soll sie erraten und hat 10 versuche\n",
    "# Überlege auch passende Tipps die der Benutzer bekommen kann um die nächste Zahl besser zu raten \n",
    "# Vervollständige den Code :\n",
    "\n",
    "import random\n",
    "\n",
    "geheimzahl = random.randint(1, 100)\n",
    "versuche = 0\n",
    "tipp = 0\n",
    "print(\"Ich denke mir eine Zahl zwischen 1 und 100. Rate sie!\")\n",
    "\n",
    "#Tipp verwende input() wie letzte Stunde\n",
    "\n",
    "\n",
    "while tipp != geheimzahl and versuche < 10:\n",
    "    eingabe = input(\"Gib deinen Tipp ein: \")\n",
    "    \n",
    "    # Fehlerbehandlung für ungültige Eingaben\n",
    "    if not eingabe.isdigit():\n",
    "        print(\"Bitte gib eine gültige Zahl ein!\")\n",
    "        continue\n",
    "\n",
    "    tipp = int(eingabe)\n",
    "    versuche += 1\n",
    "\n",
    "    if tipp < geheimzahl:\n",
    "        print(\"Zu klein!\")\n",
    "    elif tipp > geheimzahl:\n",
    "        print(\"Zu groß!\")\n",
    "    else:\n",
    "        print(f\" Richtig! Du hast die Zahl in {versuche} Versuchen erraten.\")"
   ]
  },
  {
   "cell_type": "code",
   "execution_count": null,
   "id": "dbfc439c-66a5-4a8d-9aee-c50c2fd24e22",
   "metadata": {},
   "outputs": [],
   "source": [
    "# Übung 2 : Gerade oder ungerade?\n",
    "# Schreibe ein Programm, das den Benutzer nach einer ganzen Zahl fragt und ausgibt, ob diese gerade oder ungerade ist.\n",
    "# Dann fragt es erneut nach einer Zahl, solange der Benutzer nicht „q“ eingibt.\n",
    "\n",
    "# Tipp mit eingabe.lstrip('-').isdigit(): kann man prüfen ob die Eingabe passend war\n",
    "\n",
    "while True:\n",
    "    eingabe = input(\"Gib eine ganze Zahl ein (oder 'q' zum Beenden): \")\n",
    "\n",
    "    if eingabe == 'q':\n",
    "        print(\"Programm beendet.\")\n",
    "        break\n",
    "\n",
    "    if not eingabe.lstrip('-').isdigit():\n",
    "        print(\"Das war keine gültige ganze Zahl.\")\n",
    "        continue\n",
    "\n",
    "    zahl = int(eingabe)\n",
    "\n",
    "    if zahl % 2 == 0:\n",
    "        print(f\"{zahl} ist gerade.\")\n",
    "    else:\n",
    "        print(f\"{zahl} ist ungerade.\""
   ]
  }
 ],
 "metadata": {
  "kernelspec": {
   "display_name": "Python 3 (ipykernel)",
   "language": "python",
   "name": "python3"
  },
  "language_info": {
   "codemirror_mode": {
    "name": "ipython",
    "version": 3
   },
   "file_extension": ".py",
   "mimetype": "text/x-python",
   "name": "python",
   "nbconvert_exporter": "python",
   "pygments_lexer": "ipython3",
   "version": "3.12.3"
  }
 },
 "nbformat": 4,
 "nbformat_minor": 5
}
