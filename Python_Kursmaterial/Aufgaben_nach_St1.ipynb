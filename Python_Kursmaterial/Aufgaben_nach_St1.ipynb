{
 "cells": [
  {
   "cell_type": "markdown",
   "id": "7f598c76-72a0-49a2-b911-d8b88518a24e",
   "metadata": {},
   "source": [
    "# Aufgaben nach der 1. Stunde\n",
    "\n",
    "Versuche in die passenden Zellen die Aufrufe oder Funktionen zu verfolständigen.\n",
    "Danach kannst du die Zelle darunter ausführen um zu sehen ob es den Test besteht.\n",
    "\n",
    "# Zum Ausführen:\n",
    "Ctrl  + Enter\tZelle ausführen, Fokus bleibt in der Zelle. (Strg + Enter)\n",
    "\n",
    "Shift + Enter\tZelle ausführen, Fokus zur nächsten Zelle. (Uppercase + Enter)\n",
    "\n",
    "Wichtiger Hinweis: Grundsätzlich gilt: nur weil ein Test durchläuft muss die Funktion nicht fehlerfrei sein. Deswegen gibt es bei komplexeren Funktionen mehrere Tests\n"
   ]
  },
  {
   "cell_type": "markdown",
   "id": "f33fdd80-d438-4910-8db5-bca55b2bbbf1",
   "metadata": {},
   "source": [
    "### Aufgabe 1: Einfache Datentypen erkennen und anwenden\n",
    "\n",
    "Beschreibung:\n",
    "Lege die folgenden Variablen an und weise ihnen die richtigen Werte zu. Achte darauf, einen passenden Datentyp zu wählen.\n",
    "\n",
    "    Erstelle eine Variable name mit deinem Name.\n",
    "\n",
    "    Erstelle eine Variable idnummer mit dem Wert 25.\n",
    "\n",
    "    Erstelle eine Variable mein_alter mit deinem Alter.\n",
    "\n",
    "    Erstelle eine Variable meine_groesse mit deiner Größe.\n",
    "\n",
    "    Erstelle eine Variable jahreszahl mit dem Jahr 1989."
   ]
  },
  {
   "cell_type": "code",
   "execution_count": null,
   "id": "66fb14a2-b548-49c0-83bc-8a141a80198c",
   "metadata": {},
   "outputs": [],
   "source": [
    "# IN DIESE ZELLE CODE HINZUFÜGEN\n"
   ]
  },
  {
   "cell_type": "code",
   "execution_count": 36,
   "id": "e9662d32-437c-43a0-a666-741dd7f6aa8f",
   "metadata": {},
   "outputs": [
    {
     "ename": "NameError",
     "evalue": "name 'name' is not defined",
     "output_type": "error",
     "traceback": [
      "\u001b[1;31m---------------------------------------------------------------------------\u001b[0m",
      "\u001b[1;31mNameError\u001b[0m                                 Traceback (most recent call last)",
      "Cell \u001b[1;32mIn[36], line 1\u001b[0m\n\u001b[1;32m----> 1\u001b[0m \u001b[38;5;28;01massert\u001b[39;00m \u001b[38;5;28misinstance\u001b[39m(\u001b[43mname\u001b[49m, \u001b[38;5;28mstr\u001b[39m) \u001b[38;5;129;01mand\u001b[39;00m name \u001b[38;5;241m!=\u001b[39m \u001b[38;5;124m\"\u001b[39m\u001b[38;5;124m\"\u001b[39m, \u001b[38;5;124m\"\u001b[39m\u001b[38;5;124m \u001b[39m\u001b[38;5;124m'\u001b[39m\u001b[38;5;124mname\u001b[39m\u001b[38;5;124m'\u001b[39m\u001b[38;5;124m muss ein nicht-leerer String sein.\u001b[39m\u001b[38;5;124m\"\u001b[39m\n\u001b[0;32m      2\u001b[0m \u001b[38;5;28;01massert\u001b[39;00m \u001b[38;5;28misinstance\u001b[39m(alter, \u001b[38;5;28mint\u001b[39m) \u001b[38;5;129;01mand\u001b[39;00m alter \u001b[38;5;241m==\u001b[39m \u001b[38;5;241m25\u001b[39m, \u001b[38;5;124m\"\u001b[39m\u001b[38;5;124m \u001b[39m\u001b[38;5;124m'\u001b[39m\u001b[38;5;124malter\u001b[39m\u001b[38;5;124m'\u001b[39m\u001b[38;5;124m muss die Ganzzahl 25 sein.\u001b[39m\u001b[38;5;124m\"\u001b[39m\n\u001b[0;32m      3\u001b[0m \u001b[38;5;28;01massert\u001b[39;00m \u001b[38;5;28misinstance\u001b[39m(mein_alter, \u001b[38;5;28mint\u001b[39m), \u001b[38;5;124m\"\u001b[39m\u001b[38;5;124m \u001b[39m\u001b[38;5;124m'\u001b[39m\u001b[38;5;124mmein_alter\u001b[39m\u001b[38;5;124m'\u001b[39m\u001b[38;5;124m muss vom Typ int sein.\u001b[39m\u001b[38;5;124m\"\u001b[39m\n",
      "\u001b[1;31mNameError\u001b[0m: name 'name' is not defined"
     ]
    }
   ],
   "source": [
    "#TEST: BITTE NICHT VERAENDERN NUR AUSFÜHREN\n",
    "assert isinstance(name, str) and name != \"\", \" 'name' muss ein nicht-leerer String sein.\"\n",
    "assert isinstance(idnummer, int) and idnummer == 25, \" 'idnummer' muss die Ganzzahl 25 sein.\"\n",
    "assert isinstance(mein_alter, int), \" 'mein_alter' muss vom Typ int sein.\"\n",
    "assert isinstance(meine_groesse, float), \" 'meine_groesse' muss ein float (z. B. 1.75) sein.\"\n",
    "assert isinstance(jahreszahl, int) and jahreszahl == 1989, \"'jahreszahl' muss die Ganzzahl 1989 sein.\"\n",
    "\n",
    "print(\" Alle Tests für Aufgabe 1 bestanden!\")"
   ]
  },
  {
   "cell_type": "markdown",
   "id": "538d3c2b-201d-4308-9917-70bc9e7c1fde",
   "metadata": {},
   "source": [
    "### Aufgabe 2: Datentypen erkennen und anwenden \n",
    "\n",
    "Beschreibung:\n",
    "Lege die folgenden Variablen an und weise ihnen die richtigen Werte zu. Achte darauf, einen passenden Datentyp zu wählen.\n",
    "\n",
    "    Erstelle eine Variable interessen mit einer Liste von drei deiner Hobbys, z.B. [\"Lesen\", \"Fußball\", \"Musik\"].\n",
    "\n",
    "    Erstelle eine Variable kontakt als Dictionary mit zwei Schlüsseln: \"email\" (z.B. \"anna@example.com\") und \"telefon\" (z.B. \"0123456789\")."
   ]
  },
  {
   "cell_type": "code",
   "execution_count": null,
   "id": "75d69981-de64-4fe0-a21b-acedd5453f87",
   "metadata": {},
   "outputs": [],
   "source": [
    "# IN DIESE ZELLE CODE HINZUFÜGEN\n"
   ]
  },
  {
   "cell_type": "code",
   "execution_count": null,
   "id": "9fc5cd63-e5fc-46ed-a147-12c87175e635",
   "metadata": {},
   "outputs": [],
   "source": [
    "#TEST: BITTE NICHT VERAENDERN NUR AUSFÜHREN\n",
    "assert len(interessen) == 3, \"'interessen' muss genau 3 Einträge enthalten.\"\n",
    "assert isinstance(kontakt, dict), \"'kontakt' muss ein Dictionary sein.\"\n",
    "assert \"email\" in kontakt, \" 'kontakt' muss den Schlüssel 'email' enthalten.\"\n",
    "assert \"telefon\" in kontakt, \" 'kontakt' muss den Schlüssel 'telefon' enthalten.\"\n",
    "\n",
    "print(\"Alle Tests für Aufgabe 2 erfolgreich bestanden!\")"
   ]
  },
  {
   "cell_type": "code",
   "execution_count": null,
   "id": "7c991818-5d48-40b6-a3e9-aac26f806a69",
   "metadata": {},
   "outputs": [],
   "source": [
    "#######################################################################"
   ]
  },
  {
   "cell_type": "markdown",
   "id": "74500ccd-4d25-420e-bfb1-5b8c7d5115d1",
   "metadata": {},
   "source": [
    "### Aufgabe 3: Bedingungen mit if/else\n",
    "\n",
    "Schreibe ein Programm, das abhängig vom Alter entscheidet, ob jemand **volljährig** ist oder nicht.\n",
    "\n",
    "1. Lege eine Variable `alter` an (z. B. `alter = 17`).\n",
    "2. Schreibe ein `if/else`-Statement:\n",
    "   - Wenn `alter` **größer oder gleich 18** ist, soll die Variable `status` den Wert `\"volljährig\"` bekommen.\n",
    "   - Sonst soll `status` den Wert `\"minderjährig\"` bekommen.\n",
    "\n",
    "Beispiel:\n",
    "```python\n",
    "alter = 20\n",
    "# danach soll gelten: status == \"volljährig\""
   ]
  },
  {
   "cell_type": "code",
   "execution_count": null,
   "id": "73c190e1-173c-4c08-8369-22cbbe77dfa6",
   "metadata": {},
   "outputs": [],
   "source": [
    "# IN DIESE ZELLE CODE HINZUFÜGEN\n"
   ]
  },
  {
   "cell_type": "code",
   "execution_count": null,
   "id": "8d6c1da7-91f7-41c7-8d05-278d22d2814a",
   "metadata": {},
   "outputs": [],
   "source": [
    "#TEST: BITTE NICHT VERAENDERN NUR AUSFÜHREN\n",
    "assert isinstance(alter, int), \" 'alter' muss eine Ganzzahl sein.\"\n",
    "assert status in [\"volljährig\", \"minderjährig\"], \" 'status' muss entweder 'volljährig' oder 'minderjährig' sein.\"\n",
    "\n",
    "if alter >= 18:\n",
    "    assert status == \"volljährig\", f\"Bei alter = {alter} sollte status = 'volljährig' sein.\"\n",
    "else:\n",
    "    assert status == \"minderjährig\", f\" Bei alter = {alter} sollte status = 'minderjährig' sein.\"\n",
    "\n",
    "print(\"Alle Bedingungen korrekt umgesetzt – Alle Tests für Aufgabe 3 bestanden!\")"
   ]
  },
  {
   "cell_type": "markdown",
   "id": "d07c8c10-1267-459c-9219-ac30d17a2281",
   "metadata": {},
   "source": [
    "### Aufgabe 3: Zählen mit einer while-Schleife\n",
    "\n",
    "Schreibe eine `while`-Schleife, die die Zahlen von **1 bis 10** (einschließlich) ausgibt.\n",
    "\n",
    "1. Lege eine Variable `zahl` mit dem Startwert `1` an.\n",
    "2. Gib mit einer `while`-Schleife alle Zahlen von 1 bis einschließlich 10 mit `print()` aus.\n",
    "3. Zähle dabei die Zahl jeweils um 1 hoch.\n",
    "\n",
    ">  Hinweis: Verwende **nur `while`**, keine `for`-Schleife."
   ]
  },
  {
   "cell_type": "code",
   "execution_count": null,
   "id": "e6d551e4-a879-4e9f-be31-6966c350654a",
   "metadata": {},
   "outputs": [],
   "source": [
    "# IN DIESE ZELLE CODE HINZUFÜGEN\n"
   ]
  },
  {
   "cell_type": "code",
   "execution_count": null,
   "id": "06c7d56c-5b47-4bcc-8b23-9d9943a5d088",
   "metadata": {},
   "outputs": [],
   "source": [
    "# So sollte deine Ausgabe aussehen – zum Vergleich:\n",
    "\n",
    "print(\"1\\n2\\n3\\n4\\n5\\n6\\n7\\n8\\n9\\n10\")"
   ]
  },
  {
   "cell_type": "markdown",
   "id": "0826f602-fa0b-4deb-9cac-cfe969e08ed4",
   "metadata": {},
   "source": [
    "### Aufgabe 5: Ganzzahlen addieren\n",
    "\n",
    "Schreibe eine Funktion `addiere_zahlen(a: int, b: int) -> int`, die zwei ganze Zahlen addiert und das Ergebnis zurückgibt."
   ]
  },
  {
   "cell_type": "code",
   "execution_count": 33,
   "id": "2cd4e4e8-2a32-4565-8cd7-afbebc8642b2",
   "metadata": {},
   "outputs": [
    {
     "ename": "SyntaxError",
     "evalue": "incomplete input (3750961774.py, line 4)",
     "output_type": "error",
     "traceback": [
      "\u001b[1;36m  Cell \u001b[1;32mIn[33], line 4\u001b[1;36m\u001b[0m\n\u001b[1;33m    # Hier Code einfügen\u001b[0m\n\u001b[1;37m                        ^\u001b[0m\n\u001b[1;31mSyntaxError\u001b[0m\u001b[1;31m:\u001b[0m incomplete input\n"
     ]
    }
   ],
   "source": [
    "# IN DIESE ZELLE CODE HINZUFÜGEN\n",
    "\n",
    "def addiere_zahlen(a: int, b: int) -> int:\n",
    "    # Hier Code einfügen"
   ]
  },
  {
   "cell_type": "code",
   "execution_count": 14,
   "id": "40cfa796-ed0c-4ab4-8e5e-a4d8b6400143",
   "metadata": {},
   "outputs": [
    {
     "name": "stdout",
     "output_type": "stream",
     "text": [
      "Alle Tests für Aufgabe 1 bestanden!\n"
     ]
    }
   ],
   "source": [
    "#TEST: BITTE NICHT VERAENDERN NUR AUSFÜHREN\n",
    "assert addiere_zahlen(5, 7) == 12, \"Test 1 fehlgeschlagen\"\n",
    "assert addiere_zahlen(-1, 1) == 0, \"Test 2 fehlgeschlagen\"\n",
    "assert isinstance(addiere_zahlen(1, 2), int), \"Rückgabewert ist kein int\"\n",
    "print(\"Alle Tests für Aufgabe 5 bestanden!\")"
   ]
  },
  {
   "cell_type": "code",
   "execution_count": null,
   "id": "efd2ee4f-0636-4959-956c-046f1c640ec4",
   "metadata": {},
   "outputs": [],
   "source": []
  },
  {
   "cell_type": "code",
   "execution_count": null,
   "id": "e0485787-f014-48d3-801a-d1d90789fe9c",
   "metadata": {},
   "outputs": [],
   "source": []
  }
 ],
 "metadata": {
  "kernelspec": {
   "display_name": "Python 3 (ipykernel)",
   "language": "python",
   "name": "python3"
  },
  "language_info": {
   "codemirror_mode": {
    "name": "ipython",
    "version": 3
   },
   "file_extension": ".py",
   "mimetype": "text/x-python",
   "name": "python",
   "nbconvert_exporter": "python",
   "pygments_lexer": "ipython3",
   "version": "3.12.3"
  }
 },
 "nbformat": 4,
 "nbformat_minor": 5
}
