{
 "cells": [
  {
   "cell_type": "markdown",
   "id": "6d6eda7a-e28e-4ba6-8d06-6f579f24bfa5",
   "metadata": {},
   "source": [
    "# Aufgaben nach der 2. Stunde\n",
    "Versuche in die passenden Zellen die Aufrufe oder Funktionen zu verfolständigen. Danach kannst du die Zelle darunter ausführen um zu sehen ob es den Test besteht.\n",
    "\n",
    "Zum Ausführen:\n",
    "Ctrl + Enter Zelle ausführen, Fokus bleibt in der Zelle. (Strg + Enter)\n",
    "\n",
    "Shift + Enter Zelle ausführen, Fokus zur nächsten Zelle. (Uppercase + Enter)\n",
    "\n",
    "Wichtiger Hinweis: Grundsätzlich gilt: nur weil ein Test durchläuft muss die Funktion nicht fehlerfrei sein. Deswegen gibt es bei komplexeren Funktionen mehrere Tests"
   ]
  },
  {
   "cell_type": "markdown",
   "id": "87bd652b-3924-4c6d-bdbf-f3bfa9ccd373",
   "metadata": {},
   "source": [
    "### Aufgabe 1: String verketten\n",
    "\n",
    "Schreibe eine Funktion `verbinde_strings(a: str, b: str) -> str`, die zwei Strings verbindet und zurückgibt."
   ]
  },
  {
   "cell_type": "code",
   "execution_count": null,
   "id": "ac110e2d-3ff7-4090-9f43-2b08faf7ee12",
   "metadata": {},
   "outputs": [],
   "source": [
    "# IN DIESE ZELLE CODE HINZUFÜGEN\n",
    "\n",
    "def verbinde_strings(a: str, b: str) -> str:\n",
    "    # Hier Code einfügen"
   ]
  },
  {
   "cell_type": "code",
   "execution_count": null,
   "id": "0436e6a9-140f-4062-b7e6-d2366f59d29c",
   "metadata": {},
   "outputs": [],
   "source": [
    "#TEST: BITTE NICHT VERÄNDERN NUR AUSFÜHREN\n",
    "assert verbinde_strings(\"Hallo, \", \"Welt!\") == \"Hallo, Welt!\", \"Test 1 fehlgeschlagen\"\n",
    "assert verbinde_strings(\"\", \"Test\") == \"Test\", \"Test 2 fehlgeschlagen\"\n",
    "assert isinstance(verbinde_strings(\"a\", \"b\"), str), \"Rückgabewert ist kein str\"\n",
    "print(\"Alle Tests für Aufgabe 1 bestanden!\")"
   ]
  },
  {
   "cell_type": "markdown",
   "id": "7c683be5-86b9-4d01-aade-7cf7d1972c32",
   "metadata": {},
   "source": [
    "### Aufgabe 2: Ganzzahlen aus Strings addieren\n",
    "\n",
    "Schreibe eine Funktion `addiere_als_strings(a: str, b: str) -> int`, die zwei Strings, die ganze Zahlen repräsentieren, addiert \n",
    "und das Ergebnis als int zurückgibt."
   ]
  },
  {
   "cell_type": "code",
   "execution_count": null,
   "id": "7ec49a7d-e39b-43c4-831e-919c2fb992c2",
   "metadata": {},
   "outputs": [],
   "source": [
    "# IN DIESE ZELLE CODE HINZUFÜGEN\n",
    "\n",
    "def addiere_als_strings(a: str, b: str) -> int:\n"
   ]
  },
  {
   "cell_type": "code",
   "execution_count": null,
   "id": "e43f930b-3a90-4ad1-a976-6c47dfae93ac",
   "metadata": {},
   "outputs": [],
   "source": [
    "#TEST: BITTE NICHT VERÄNDERN NUR AUSFÜHREN\n",
    "assert addiere_als_strings(\"10\", \"5\") == 15, \"Test 1 fehlgeschlagen\"\n",
    "assert addiere_als_strings(\"0\", \"0\") == 0, \"Test 2 fehlgeschlagen\"\n",
    "assert isinstance(addiere_als_strings(\"1\", \"2\"), int), \"Rückgabewert ist kein int\"\n",
    "print(\"Alle Tests für Aufgabe 2 bestanden!\")"
   ]
  },
  {
   "cell_type": "markdown",
   "id": "964614b3-7bfd-4870-9d6d-1284dc5b8e0e",
   "metadata": {},
   "source": [
    "### Aufgabe 3: Verdoppeln – Funktion schreiben\n",
    "\n",
    "Schreibe eine Funktion `verdoppeln(zahl: int) -> int`, die eine ganze Zahl entgegen­nimmt und das Doppelte davon zurückgibt.\n",
    "\n",
    "Beispiel:\n",
    "\n",
    "```python\n",
    "verdoppeln(5)  ➞ 10\n",
    "verdoppeln(-3) ➞ -6"
   ]
  },
  {
   "cell_type": "code",
   "execution_count": null,
   "id": "f1d932b7-132b-4ddb-bee0-d735563d7f3a",
   "metadata": {},
   "outputs": [],
   "source": [
    "# IN DIESE ZELLE CODE HINZUFÜGEN\n"
   ]
  },
  {
   "cell_type": "code",
   "execution_count": null,
   "id": "21737644-0d67-4f02-a8f3-ca0b5ecfe19d",
   "metadata": {},
   "outputs": [],
   "source": [
    "assert verdoppeln(5) == 10\n",
    "assert verdoppeln(0) == 0\n",
    "assert verdoppeln(-3) == -6\n",
    "\n",
    "print(\"Alle Tests erfolgreich für Aufgabe 3 bestanden!\")"
   ]
  },
  {
   "cell_type": "markdown",
   "id": "152cbe18-7262-4f0d-b062-0ec3aefbdf74",
   "metadata": {},
   "source": [
    "### Aufgabe 4: Wortanalyse – Funktionen schreiben und anwenden (schwierig)\n",
    "\n",
    "Schreibe eine Funktion `analysiere_wort(wort: str) -> dict`, die Informationen über ein Wort zurückgibt.\n",
    "\n",
    "Die Funktion soll Folgendes prüfen und in einem Dictionary zurückgeben:\n",
    "\n",
    "- `\"laenge\"`: Anzahl der Buchstaben im Wort\n",
    "- `\"vokale\"`: Anzahl der Vokale (`a`, `e`, `i`, `o`, `u` groß oder klein)\n",
    "- `\"ist_palindrom\"`: `True`, wenn das Wort ein Palindrom ist (z.B.. „otto“), sonst `False`\n",
    "\n",
    "### Beispiel:\n",
    "\n",
    "```python\n",
    "analysiere_wort(\"Otto\")\n",
    "soll zurückgeben:\n",
    "\n",
    "{'laenge': 4, 'vokale': 2, 'ist_palindrom': True}\n",
    "\n",
    "Tipp: Achte auf Groß-/Kleinschreibung und verwende string-Methoden wie .lower() und [::-1]."
   ]
  },
  {
   "cell_type": "code",
   "execution_count": null,
   "id": "b4add5e1-6675-4f14-9652-f31ddeedc585",
   "metadata": {},
   "outputs": [],
   "source": [
    "# IN DIESE ZELLE CODE HINZUFÜGEN\n"
   ]
  },
  {
   "cell_type": "code",
   "execution_count": null,
   "id": "e7f59aa8-ea5f-41f0-b74a-6fa40ab64bdc",
   "metadata": {},
   "outputs": [],
   "source": [
    "#TEST: BITTE NICHT VERAENDERN NUR AUSFÜHREN\n",
    "assert analysiere_wort(\"Otto\") == {'laenge': 4, 'vokale': 2, 'ist_palindrom': True}\n",
    "assert analysiere_wort(\"Apfel\") == {'laenge': 5, 'vokale': 2, 'ist_palindrom': False}\n",
    "assert analysiere_wort(\"Rentner\") == {'laenge': 7, 'vokale': 2, 'ist_palindrom': True}\n",
    "assert analysiere_wort(\"Tisch\") == {'laenge': 5, 'vokale': 1, 'ist_palindrom': False}\n",
    "\n",
    "print(\"✅ Alle Tests bestanden – gut gemacht!\")"
   ]
  },
  {
   "cell_type": "markdown",
   "id": "46af97c9-0b84-457f-8223-3331f687ef4b",
   "metadata": {},
   "source": [
    "### Aufgabe 5: Eine einfache Klasse schreiben\n",
    "\n",
    "Schreibe eine Klasse `Person`, die folgende Eigenschaften hat:\n",
    "\n",
    "#### Attribute:\n",
    "- `name`: der Name der Person (String)\n",
    "- `alter`: das Alter der Person (int)\n",
    "\n",
    "#### Methode:\n",
    "- `vorstellen()`: gibt einen Begrüßungstext deiner Wahl zurück, z. B.\n",
    "  `\"Hallo, ich heiße Mark und bin müde.\"`\n",
    "\n",
    "####  Beispielverwendung:\n",
    "\n",
    "```python\n",
    "p = Person(\"Mark\", 3)\n",
    "p.vorstellen()  ➞ \"Hallo, ich heiße Mark und bin müde.\"\n",
    "\n",
    "Hinweis: Du brauchst einen Konstruktor (__init__) und eine Methode (def vorstellen(self):)."
   ]
  },
  {
   "cell_type": "code",
   "execution_count": null,
   "id": "864e5e12-503f-488e-b816-211adf86b070",
   "metadata": {},
   "outputs": [],
   "source": [
    "# IN DIESE ZELLE CODE HINZUFÜGEN\n"
   ]
  },
  {
   "cell_type": "code",
   "execution_count": 27,
   "id": "d20d0035-007b-4dd0-9667-ba882ca5b160",
   "metadata": {},
   "outputs": [
    {
     "ename": "NameError",
     "evalue": "name 'Person' is not defined",
     "output_type": "error",
     "traceback": [
      "\u001b[1;31m---------------------------------------------------------------------------\u001b[0m",
      "\u001b[1;31mNameError\u001b[0m                                 Traceback (most recent call last)",
      "Cell \u001b[1;32mIn[27], line 1\u001b[0m\n\u001b[1;32m----> 1\u001b[0m p1 \u001b[38;5;241m=\u001b[39m \u001b[43mPerson\u001b[49m(\u001b[38;5;124m\"\u001b[39m\u001b[38;5;124mAnna\u001b[39m\u001b[38;5;124m\"\u001b[39m, \u001b[38;5;241m30\u001b[39m)\n\u001b[0;32m      2\u001b[0m p2 \u001b[38;5;241m=\u001b[39m Person(\u001b[38;5;124m\"\u001b[39m\u001b[38;5;124mBen\u001b[39m\u001b[38;5;124m\"\u001b[39m, \u001b[38;5;241m22\u001b[39m)\n\u001b[0;32m      4\u001b[0m \u001b[38;5;28;01massert\u001b[39;00m p1\u001b[38;5;241m.\u001b[39mname \u001b[38;5;241m==\u001b[39m \u001b[38;5;124m\"\u001b[39m\u001b[38;5;124mAnna\u001b[39m\u001b[38;5;124m\"\u001b[39m\n",
      "\u001b[1;31mNameError\u001b[0m: name 'Person' is not defined"
     ]
    }
   ],
   "source": [
    "#TEST: BITTE NICHT VERAENDERN NUR AUSFÜHREN\n",
    "p1 = Person(\"Anna\", 30)\n",
    "p2 = Person(\"Ben\", 22)\n",
    "\n",
    "assert p1.name == \"Anna\"\n",
    "assert p1.alter == 30\n",
    "assert p1.vorstellen() == \"Hallo, ich heiße Anna und bin 30 Jahre alt.\"\n",
    "\n",
    "assert p2.name == \"Ben\"\n",
    "assert p2.alter == 22\n",
    "assert p2.vorstellen() == \"Hallo, ich heiße Ben und bin 22 Jahre alt.\"\n",
    "\n",
    "print(\"Alle Tests für Aufgabe 6 erfolgreich!\")"
   ]
  },
  {
   "cell_type": "markdown",
   "id": "9a062bb5-7ae4-499a-8e53-a0087124fcc3",
   "metadata": {},
   "source": [
    "### Aufgabe 6b: Methoden und Zustand – Die Klasse erweitern\n",
    "\n",
    "Erweitere die Klasse `Person` um eine Methode:\n",
    "#### !!!! Füge den Code dafür oben zu der KLasse hinzu !!!!\n",
    "\n",
    "#### Neue Methode:\n",
    "- `hat_geburtstag()`: Diese Methode soll das Alter der Person **um 1 erhöhen** und den String zurückgeben:  \n",
    "  `\"Alles Gute zum Geburtstag, [Name]! Du bist jetzt [Alter] Jahre alt.\"`\n",
    "\n",
    "#### Beispiel:\n",
    "\n",
    "```python\n",
    "p = Person(\"Mark\", 3)\n",
    "p.hat_geburtstag()\n",
    "# ➞ \"Alles Gute zum Geburtstag, Mark! Du bist jetzt 4 Jahre alt.\"\n",
    "\n",
    "Tipp: Du musst einfach self.alter um 1 erhöhen und einen formatierten String zurückgeben.\n"
   ]
  },
  {
   "cell_type": "code",
   "execution_count": null,
   "id": "1bc0477e-34af-4a0f-9408-5d5219c25163",
   "metadata": {},
   "outputs": [],
   "source": [
    "#TEST: BITTE NICHT VERAENDERN NUR AUSFÜHREN\n",
    "p = Person(\"Ben\", 22)\n",
    "assert p.alter == 22\n",
    "assert p.hat_geburtstag() == \"Alles Gute zum Geburtstag, Ben! Du bist jetzt 23 Jahre alt.\"\n",
    "assert p.alter == 23\n",
    "assert p.hat_geburtstag() == \"Alles Gute zum Geburtstag, Ben! Du bist jetzt 24 Jahre alt.\"\n",
    "assert p.alter == 24\n",
    "\n",
    "print(\"Gut erweitert. Alle Test für Aufgabe 6b bestanden\")"
   ]
  }
 ],
 "metadata": {
  "kernelspec": {
   "display_name": "Python 3 (ipykernel)",
   "language": "python",
   "name": "python3"
  },
  "language_info": {
   "codemirror_mode": {
    "name": "ipython",
    "version": 3
   },
   "file_extension": ".py",
   "mimetype": "text/x-python",
   "name": "python",
   "nbconvert_exporter": "python",
   "pygments_lexer": "ipython3",
   "version": "3.12.3"
  }
 },
 "nbformat": 4,
 "nbformat_minor": 5
}
