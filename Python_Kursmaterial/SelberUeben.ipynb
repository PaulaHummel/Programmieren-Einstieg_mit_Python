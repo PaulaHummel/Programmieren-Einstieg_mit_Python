{
 "cells": [
  {
   "cell_type": "code",
   "execution_count": null,
   "id": "6aec8faa-16d6-4bb2-9eaa-dd9382be230b",
   "metadata": {},
   "outputs": [],
   "source": [
    "# Übung 1: Zahlenraten-Spiel\n",
    "# Der Computer denkt sich eine Zahl zwischen 1 und 100 aus.\n",
    "# Der Benutzer soll sie erraten und hat 10 versuche\n",
    "# Überlege auch passende Tipps die der Benutzer bekommen kann um die nächste Zahl besser zu raten \n",
    "# Vervollständige den Code :\n",
    "\n",
    "\n",
    "import random\n",
    "\n",
    "geheimzahl = random.randint(1, 100)\n",
    "versuche = 0\n",
    "tipp = \n",
    "print(\"Ich denke mir eine Zahl zwischen 1 und 100. Rate sie!\")\n",
    "\n",
    "#Tipp verwende input() wie letzte Stunde\n",
    "\n",
    "\n"
   ]
  },
  {
   "cell_type": "code",
   "execution_count": null,
   "id": "f915deeb-ea1c-4d69-bb73-9a711754e9f1",
   "metadata": {},
   "outputs": [],
   "source": [
    "# Übung 2 : Gerade oder ungerade?\n",
    "# Schreibe ein Programm, das den Benutzer nach einer ganzen Zahl fragt und ausgibt, ob diese gerade oder ungerade ist.\n",
    "# Dann fragt es erneut nach einer Zahl, solange der Benutzer nicht „q“ eingibt.\n",
    "\n",
    "# Tipp mit eingabe.lstrip('-').isdigit(): kann man prüfen ob die Eingabe passend war\n",
    "# Tipp: verwende while schleife mit break\n"
   ]
  }
 ],
 "metadata": {
  "kernelspec": {
   "display_name": "Python 3 (ipykernel)",
   "language": "python",
   "name": "python3"
  },
  "language_info": {
   "codemirror_mode": {
    "name": "ipython",
    "version": 3
   },
   "file_extension": ".py",
   "mimetype": "text/x-python",
   "name": "python",
   "nbconvert_exporter": "python",
   "pygments_lexer": "ipython3",
   "version": "3.12.3"
  }
 },
 "nbformat": 4,
 "nbformat_minor": 5
}
