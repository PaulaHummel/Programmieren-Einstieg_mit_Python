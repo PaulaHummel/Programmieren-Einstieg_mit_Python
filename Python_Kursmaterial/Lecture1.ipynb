{
 "cells": [
  {
   "cell_type": "code",
   "execution_count": 1,
   "id": "aeb8bd21-b837-4032-a494-f6bd2924f212",
   "metadata": {},
   "outputs": [],
   "source": [
    "a = 3"
   ]
  },
  {
   "cell_type": "code",
   "execution_count": 3,
   "id": "974e9777-6c14-4ae3-bb94-b21aa64faac2",
   "metadata": {},
   "outputs": [
    {
     "data": {
      "text/plain": [
       "3"
      ]
     },
     "execution_count": 3,
     "metadata": {},
     "output_type": "execute_result"
    }
   ],
   "source": [
    "a"
   ]
  },
  {
   "cell_type": "code",
   "execution_count": 5,
   "id": "c18d90de-49db-4ca1-bacb-e930a2e1743e",
   "metadata": {},
   "outputs": [],
   "source": [
    "b = 2 + 3"
   ]
  },
  {
   "cell_type": "code",
   "execution_count": 7,
   "id": "bf6711e4-3552-412f-b4b6-22c0c4e15f0e",
   "metadata": {},
   "outputs": [
    {
     "data": {
      "text/plain": [
       "5"
      ]
     },
     "execution_count": 7,
     "metadata": {},
     "output_type": "execute_result"
    }
   ],
   "source": [
    "b"
   ]
  },
  {
   "cell_type": "code",
   "execution_count": 9,
   "id": "456de8f3-33c4-45cb-aef5-e92317d1af01",
   "metadata": {},
   "outputs": [
    {
     "data": {
      "text/plain": [
       "int"
      ]
     },
     "execution_count": 9,
     "metadata": {},
     "output_type": "execute_result"
    }
   ],
   "source": [
    "type(a)"
   ]
  },
  {
   "cell_type": "code",
   "execution_count": 11,
   "id": "b864f33b-d2f3-4270-8f84-b26d4a73c032",
   "metadata": {},
   "outputs": [
    {
     "data": {
      "text/plain": [
       "int"
      ]
     },
     "execution_count": 11,
     "metadata": {},
     "output_type": "execute_result"
    }
   ],
   "source": [
    "type(b) "
   ]
  },
  {
   "cell_type": "code",
   "execution_count": 13,
   "id": "99735771-418d-4435-af3b-1e806991e51b",
   "metadata": {},
   "outputs": [],
   "source": [
    "c = 9/3"
   ]
  },
  {
   "cell_type": "code",
   "execution_count": 15,
   "id": "4b5165ab-8022-41ee-b88e-ac786e70eb76",
   "metadata": {},
   "outputs": [
    {
     "data": {
      "text/plain": [
       "3.0"
      ]
     },
     "execution_count": 15,
     "metadata": {},
     "output_type": "execute_result"
    }
   ],
   "source": [
    "c"
   ]
  },
  {
   "cell_type": "code",
   "execution_count": 17,
   "id": "83921089-6bd0-46eb-9685-e16c556a339d",
   "metadata": {},
   "outputs": [
    {
     "data": {
      "text/plain": [
       "float"
      ]
     },
     "execution_count": 17,
     "metadata": {},
     "output_type": "execute_result"
    }
   ],
   "source": [
    "type(c)"
   ]
  },
  {
   "cell_type": "code",
   "execution_count": 21,
   "id": "a9b07849-ebfe-4538-b6d8-a977fcca09fa",
   "metadata": {},
   "outputs": [],
   "source": [
    "muede= True\n"
   ]
  },
  {
   "cell_type": "code",
   "execution_count": 23,
   "id": "1dce1404-b799-4913-a877-b7e1bbafe7ce",
   "metadata": {},
   "outputs": [
    {
     "data": {
      "text/plain": [
       "bool"
      ]
     },
     "execution_count": 23,
     "metadata": {},
     "output_type": "execute_result"
    }
   ],
   "source": [
    "type(muede)"
   ]
  },
  {
   "cell_type": "code",
   "execution_count": 25,
   "id": "dd8b8a5f-d705-4d0f-869e-33d6239c39ab",
   "metadata": {},
   "outputs": [],
   "source": [
    "name = \"Hansi\""
   ]
  },
  {
   "cell_type": "code",
   "execution_count": 27,
   "id": "22d34416-08d5-4979-8e8e-c08474e9ea28",
   "metadata": {},
   "outputs": [
    {
     "data": {
      "text/plain": [
       "str"
      ]
     },
     "execution_count": 27,
     "metadata": {},
     "output_type": "execute_result"
    }
   ],
   "source": [
    "type(name)"
   ]
  },
  {
   "cell_type": "code",
   "execution_count": 33,
   "id": "d4a88831-b0b4-411e-9c1d-c3ab93643008",
   "metadata": {},
   "outputs": [],
   "source": [
    "e = 1 + 3j"
   ]
  },
  {
   "cell_type": "code",
   "execution_count": 35,
   "id": "5ef64927-64a5-4959-bf41-f0c0de2410d9",
   "metadata": {},
   "outputs": [
    {
     "data": {
      "text/plain": [
       "complex"
      ]
     },
     "execution_count": 35,
     "metadata": {},
     "output_type": "execute_result"
    }
   ],
   "source": [
    "type(e)"
   ]
  },
  {
   "cell_type": "code",
   "execution_count": 29,
   "id": "e1aa759a-ef8d-444a-8a34-9a5009500af5",
   "metadata": {},
   "outputs": [],
   "source": [
    "###########################"
   ]
  },
  {
   "cell_type": "code",
   "execution_count": 47,
   "id": "e9e77a81-eb89-497c-82e2-91c759358e58",
   "metadata": {},
   "outputs": [
    {
     "name": "stdin",
     "output_type": "stream",
     "text": [
      "Enter a number: 2\n"
     ]
    }
   ],
   "source": [
    "number = input(\"Enter a number:\")"
   ]
  },
  {
   "cell_type": "code",
   "execution_count": 49,
   "id": "e507cfaf-5b08-4098-a948-bcc2d44dc960",
   "metadata": {},
   "outputs": [
    {
     "data": {
      "text/plain": [
       "'2'"
      ]
     },
     "execution_count": 49,
     "metadata": {},
     "output_type": "execute_result"
    }
   ],
   "source": [
    "number"
   ]
  },
  {
   "cell_type": "code",
   "execution_count": 51,
   "id": "ce657652-b872-47a5-935b-90e5627f404f",
   "metadata": {},
   "outputs": [
    {
     "data": {
      "text/plain": [
       "str"
      ]
     },
     "execution_count": 51,
     "metadata": {},
     "output_type": "execute_result"
    }
   ],
   "source": [
    "type(number)"
   ]
  },
  {
   "cell_type": "code",
   "execution_count": 53,
   "id": "e8bc90c1-6efb-4092-a677-b347af8711e3",
   "metadata": {},
   "outputs": [
    {
     "data": {
      "text/plain": [
       "2"
      ]
     },
     "execution_count": 53,
     "metadata": {},
     "output_type": "execute_result"
    }
   ],
   "source": [
    "int(number)"
   ]
  },
  {
   "cell_type": "code",
   "execution_count": 55,
   "id": "b8de0265-cfde-4e5f-885f-b5e377a2de6b",
   "metadata": {},
   "outputs": [
    {
     "data": {
      "text/plain": [
       "str"
      ]
     },
     "execution_count": 55,
     "metadata": {},
     "output_type": "execute_result"
    }
   ],
   "source": [
    "type(number)"
   ]
  },
  {
   "cell_type": "code",
   "execution_count": 57,
   "id": "3fe86f4f-8b91-47e0-a8f4-2dd1621c8970",
   "metadata": {},
   "outputs": [],
   "source": [
    "number= int(number)"
   ]
  },
  {
   "cell_type": "code",
   "execution_count": 59,
   "id": "86397ac8-be3f-4450-a54e-89545d9073a8",
   "metadata": {},
   "outputs": [
    {
     "data": {
      "text/plain": [
       "int"
      ]
     },
     "execution_count": 59,
     "metadata": {},
     "output_type": "execute_result"
    }
   ],
   "source": [
    "type(number)"
   ]
  },
  {
   "cell_type": "code",
   "execution_count": 61,
   "id": "bc7402ce-80e4-4621-aba2-21fa18967475",
   "metadata": {},
   "outputs": [],
   "source": [
    "###########"
   ]
  },
  {
   "cell_type": "code",
   "execution_count": 87,
   "id": "de2731b2-0b61-4579-9548-1cec72535762",
   "metadata": {},
   "outputs": [],
   "source": [
    "start = \"Hello World!\""
   ]
  },
  {
   "cell_type": "code",
   "execution_count": 89,
   "id": "5b83e9d1-e92d-4310-b630-a6a111d30937",
   "metadata": {},
   "outputs": [
    {
     "data": {
      "text/plain": [
       "'Hello World!'"
      ]
     },
     "execution_count": 89,
     "metadata": {},
     "output_type": "execute_result"
    }
   ],
   "source": [
    "start"
   ]
  },
  {
   "cell_type": "code",
   "execution_count": 91,
   "id": "396108b4-5dec-4455-814f-7c3221c14dc3",
   "metadata": {},
   "outputs": [
    {
     "data": {
      "text/plain": [
       "'H'"
      ]
     },
     "execution_count": 91,
     "metadata": {},
     "output_type": "execute_result"
    }
   ],
   "source": [
    "start[0]"
   ]
  },
  {
   "cell_type": "code",
   "execution_count": 93,
   "id": "7e343fe0-7968-4599-8f5f-a2d61fdba27f",
   "metadata": {},
   "outputs": [
    {
     "data": {
      "text/plain": [
       "'Hello'"
      ]
     },
     "execution_count": 93,
     "metadata": {},
     "output_type": "execute_result"
    }
   ],
   "source": [
    "start[0:5]"
   ]
  },
  {
   "cell_type": "code",
   "execution_count": 95,
   "id": "7663c385-d003-44bb-a59c-37f4cddfcb33",
   "metadata": {},
   "outputs": [],
   "source": [
    "start_mess= start[0:-1] + ', welcome!'"
   ]
  },
  {
   "cell_type": "code",
   "execution_count": 97,
   "id": "9b9d0a1e-965f-4fee-afe1-5f64cbf097d0",
   "metadata": {},
   "outputs": [
    {
     "data": {
      "text/plain": [
       "'Hello World, welcome!'"
      ]
     },
     "execution_count": 97,
     "metadata": {},
     "output_type": "execute_result"
    }
   ],
   "source": [
    "start_mess"
   ]
  },
  {
   "cell_type": "code",
   "execution_count": 100,
   "id": "7ac1baa4-e67d-4e50-a0c9-23351107fc77",
   "metadata": {},
   "outputs": [],
   "source": [
    "l = [1, 2, 3]"
   ]
  },
  {
   "cell_type": "code",
   "execution_count": 102,
   "id": "a079f587-ef1a-4225-9473-b28ef8fb8771",
   "metadata": {},
   "outputs": [
    {
     "data": {
      "text/plain": [
       "list"
      ]
     },
     "execution_count": 102,
     "metadata": {},
     "output_type": "execute_result"
    }
   ],
   "source": [
    "type(l)"
   ]
  },
  {
   "cell_type": "code",
   "execution_count": 104,
   "id": "92ec03fb-9d8c-43b1-b203-501c96d4036d",
   "metadata": {},
   "outputs": [
    {
     "data": {
      "text/plain": [
       "1"
      ]
     },
     "execution_count": 104,
     "metadata": {},
     "output_type": "execute_result"
    }
   ],
   "source": [
    "l[0]"
   ]
  },
  {
   "cell_type": "code",
   "execution_count": 106,
   "id": "f5fea6b4-b640-4fea-8f4f-6699066c0e85",
   "metadata": {},
   "outputs": [
    {
     "data": {
      "text/plain": [
       "int"
      ]
     },
     "execution_count": 106,
     "metadata": {},
     "output_type": "execute_result"
    }
   ],
   "source": [
    "type(l[0])"
   ]
  },
  {
   "cell_type": "code",
   "execution_count": 109,
   "id": "d9b3e100-c0b8-4858-a725-92c7f282b7d3",
   "metadata": {},
   "outputs": [],
   "source": [
    "kopie= l"
   ]
  },
  {
   "cell_type": "code",
   "execution_count": 111,
   "id": "97863d77-5e95-41e8-8a13-83daef19c4c5",
   "metadata": {},
   "outputs": [
    {
     "data": {
      "text/plain": [
       "[1, 2, 3]"
      ]
     },
     "execution_count": 111,
     "metadata": {},
     "output_type": "execute_result"
    }
   ],
   "source": [
    "kopie"
   ]
  },
  {
   "cell_type": "code",
   "execution_count": 113,
   "id": "aa5fb04d-e813-4032-8793-9aebca946133",
   "metadata": {},
   "outputs": [],
   "source": [
    "kopie[2]=9"
   ]
  },
  {
   "cell_type": "code",
   "execution_count": 115,
   "id": "ad79b8e1-add9-420e-a79d-2349eb201339",
   "metadata": {},
   "outputs": [
    {
     "data": {
      "text/plain": [
       "[1, 2, 9]"
      ]
     },
     "execution_count": 115,
     "metadata": {},
     "output_type": "execute_result"
    }
   ],
   "source": [
    "kopie"
   ]
  },
  {
   "cell_type": "code",
   "execution_count": 117,
   "id": "61b4a42c-6fb6-4e67-9ced-e446de01de28",
   "metadata": {},
   "outputs": [
    {
     "data": {
      "text/plain": [
       "[1, 2, 9]"
      ]
     },
     "execution_count": 117,
     "metadata": {},
     "output_type": "execute_result"
    }
   ],
   "source": [
    "l"
   ]
  },
  {
   "cell_type": "code",
   "execution_count": 119,
   "id": "aa90ba34-3469-4903-a854-56ab1530f0ed",
   "metadata": {},
   "outputs": [],
   "source": [
    "real_copie= l.copy()"
   ]
  },
  {
   "cell_type": "code",
   "execution_count": 121,
   "id": "6754f983-d17f-463f-b585-4c1cb1ae0df3",
   "metadata": {},
   "outputs": [],
   "source": [
    "real_copie[2]=3"
   ]
  },
  {
   "cell_type": "code",
   "execution_count": 123,
   "id": "f5b5650f-8381-4744-88fd-903be0fb9c4a",
   "metadata": {},
   "outputs": [
    {
     "data": {
      "text/plain": [
       "[1, 2, 3]"
      ]
     },
     "execution_count": 123,
     "metadata": {},
     "output_type": "execute_result"
    }
   ],
   "source": [
    "real_copie"
   ]
  },
  {
   "cell_type": "code",
   "execution_count": 125,
   "id": "db330dcb-cccc-440f-9db7-9e9d9c214c71",
   "metadata": {},
   "outputs": [
    {
     "data": {
      "text/plain": [
       "[1, 2, 9]"
      ]
     },
     "execution_count": 125,
     "metadata": {},
     "output_type": "execute_result"
    }
   ],
   "source": [
    "l"
   ]
  },
  {
   "cell_type": "code",
   "execution_count": 136,
   "id": "6b913a08-4aff-4eff-a78a-20d00ec542bb",
   "metadata": {},
   "outputs": [],
   "source": [
    "english = {'hot':'heiß', 'tea':'tee'}"
   ]
  },
  {
   "cell_type": "code",
   "execution_count": 138,
   "id": "fe293778-29d9-4749-941e-1676c47d14be",
   "metadata": {},
   "outputs": [
    {
     "data": {
      "text/plain": [
       "dict"
      ]
     },
     "execution_count": 138,
     "metadata": {},
     "output_type": "execute_result"
    }
   ],
   "source": [
    "type(english)"
   ]
  },
  {
   "cell_type": "code",
   "execution_count": 140,
   "id": "cb216af3-9cd5-4281-8e48-ae655e3410e8",
   "metadata": {},
   "outputs": [
    {
     "data": {
      "text/plain": [
       "'tee'"
      ]
     },
     "execution_count": 140,
     "metadata": {},
     "output_type": "execute_result"
    }
   ],
   "source": [
    "english['tea']"
   ]
  },
  {
   "cell_type": "code",
   "execution_count": 142,
   "id": "869da68e-1517-413b-ad5b-1f607c677568",
   "metadata": {},
   "outputs": [
    {
     "ename": "KeyError",
     "evalue": "'tee'",
     "output_type": "error",
     "traceback": [
      "\u001b[1;31m---------------------------------------------------------------------------\u001b[0m",
      "\u001b[1;31mKeyError\u001b[0m                                  Traceback (most recent call last)",
      "Cell \u001b[1;32mIn[142], line 1\u001b[0m\n\u001b[1;32m----> 1\u001b[0m \u001b[43menglish\u001b[49m\u001b[43m[\u001b[49m\u001b[38;5;124;43m'\u001b[39;49m\u001b[38;5;124;43mtee\u001b[39;49m\u001b[38;5;124;43m'\u001b[39;49m\u001b[43m]\u001b[49m\n",
      "\u001b[1;31mKeyError\u001b[0m: 'tee'"
     ]
    }
   ],
   "source": [
    "english['tee']"
   ]
  },
  {
   "cell_type": "code",
   "execution_count": 148,
   "id": "62b4da2b-85ef-431a-a79c-aa6303b29e8a",
   "metadata": {},
   "outputs": [
    {
     "name": "stdin",
     "output_type": "stream",
     "text": [
      "Enter a number:  3\n"
     ]
    },
    {
     "name": "stdout",
     "output_type": "stream",
     "text": [
      "Smaller\n",
      "Really!\n"
     ]
    }
   ],
   "source": [
    "x = int(input('Enter a number: '))\n",
    "if x > 12:\n",
    "    print('Bigger')\n",
    "elif x == 12:\n",
    "    print('Equal')\n",
    "else:\n",
    "    print('Smaller')\n",
    "    print('Really!')"
   ]
  },
  {
   "cell_type": "code",
   "execution_count": 154,
   "id": "9eed9c53-3d08-4b98-8301-1e298a3fe860",
   "metadata": {},
   "outputs": [
    {
     "name": "stdout",
     "output_type": "stream",
     "text": [
      "24\n"
     ]
    }
   ],
   "source": [
    "numbers = [3, 4, 8, 9]\n",
    "s = 0\n",
    "for i in numbers:\n",
    "    s = s + i\n",
    "print(s)"
   ]
  },
  {
   "cell_type": "code",
   "execution_count": 156,
   "id": "21b73edb-c1f3-49c9-95b2-79edf3095b4f",
   "metadata": {},
   "outputs": [
    {
     "name": "stdout",
     "output_type": "stream",
     "text": [
      "0\n",
      "1\n",
      "2\n",
      "3\n",
      "4\n",
      "5\n",
      "6\n",
      "7\n",
      "8\n",
      "9\n"
     ]
    }
   ],
   "source": [
    "for i in range(10):\n",
    "    print(i)"
   ]
  },
  {
   "cell_type": "code",
   "execution_count": null,
   "id": "4a24ac13-1f9e-47fb-9ada-5a69815340fc",
   "metadata": {},
   "outputs": [],
   "source": [
    "#####################################"
   ]
  },
  {
   "cell_type": "code",
   "execution_count": 158,
   "id": "ddc63319-9975-43fb-a5b7-782408d6cd2e",
   "metadata": {},
   "outputs": [
    {
     "data": {
      "text/plain": [
       "2"
      ]
     },
     "execution_count": 158,
     "metadata": {},
     "output_type": "execute_result"
    }
   ],
   "source": [
    "1+1"
   ]
  },
  {
   "cell_type": "code",
   "execution_count": 161,
   "id": "f4ebfd58-9129-4376-bfe3-670a467411e8",
   "metadata": {},
   "outputs": [
    {
     "data": {
      "text/plain": [
       "-1"
      ]
     },
     "execution_count": 161,
     "metadata": {},
     "output_type": "execute_result"
    }
   ],
   "source": [
    "1-2"
   ]
  },
  {
   "cell_type": "code",
   "execution_count": 163,
   "id": "23362596-9f0e-4612-ab7b-01e4331b3d35",
   "metadata": {},
   "outputs": [
    {
     "data": {
      "text/plain": [
       "4"
      ]
     },
     "execution_count": 163,
     "metadata": {},
     "output_type": "execute_result"
    }
   ],
   "source": [
    "2*2"
   ]
  },
  {
   "cell_type": "code",
   "execution_count": 169,
   "id": "68d9724e-4f29-4947-bd9d-e1aa75f8ec28",
   "metadata": {},
   "outputs": [],
   "source": [
    "teiler = 9/2"
   ]
  },
  {
   "cell_type": "code",
   "execution_count": 171,
   "id": "267c7451-6258-4f4d-bb8d-ed183cde694d",
   "metadata": {},
   "outputs": [
    {
     "data": {
      "text/plain": [
       "float"
      ]
     },
     "execution_count": 171,
     "metadata": {},
     "output_type": "execute_result"
    }
   ],
   "source": [
    "type(teiler)"
   ]
  },
  {
   "cell_type": "code",
   "execution_count": 173,
   "id": "3b48dae5-cb48-4561-bc36-61f6725e1709",
   "metadata": {},
   "outputs": [
    {
     "data": {
      "text/plain": [
       "4"
      ]
     },
     "execution_count": 173,
     "metadata": {},
     "output_type": "execute_result"
    }
   ],
   "source": [
    "9//2"
   ]
  },
  {
   "cell_type": "code",
   "execution_count": 175,
   "id": "9e1a9a41-4185-437a-b968-0fbf5d535a09",
   "metadata": {},
   "outputs": [
    {
     "data": {
      "text/plain": [
       "1"
      ]
     },
     "execution_count": 175,
     "metadata": {},
     "output_type": "execute_result"
    }
   ],
   "source": [
    "9 %2"
   ]
  },
  {
   "cell_type": "code",
   "execution_count": 179,
   "id": "c2d56b9b-502b-4b93-bfda-e647a71eaed1",
   "metadata": {},
   "outputs": [],
   "source": [
    "good_vibes = True"
   ]
  },
  {
   "cell_type": "code",
   "execution_count": 195,
   "id": "b804d862-f10b-4846-854e-5d3b6357d3a1",
   "metadata": {},
   "outputs": [],
   "source": [
    "nice_weather = False"
   ]
  },
  {
   "cell_type": "code",
   "execution_count": 197,
   "id": "fd8743d9-3e29-4ee5-a7e7-e7ae5b38303e",
   "metadata": {},
   "outputs": [
    {
     "data": {
      "text/plain": [
       "False"
      ]
     },
     "execution_count": 197,
     "metadata": {},
     "output_type": "execute_result"
    }
   ],
   "source": [
    "good_vibes and nice_weather"
   ]
  },
  {
   "cell_type": "code",
   "execution_count": 199,
   "id": "8673df92-58c6-4ec0-b1f6-e2757c216902",
   "metadata": {},
   "outputs": [
    {
     "data": {
      "text/plain": [
       "True"
      ]
     },
     "execution_count": 199,
     "metadata": {},
     "output_type": "execute_result"
    }
   ],
   "source": [
    "good_vibes or nice_weather"
   ]
  },
  {
   "cell_type": "code",
   "execution_count": 201,
   "id": "dc40671a-e132-4355-add8-e063878984ff",
   "metadata": {},
   "outputs": [
    {
     "data": {
      "text/plain": [
       "True"
      ]
     },
     "execution_count": 201,
     "metadata": {},
     "output_type": "execute_result"
    }
   ],
   "source": [
    "not nice_weather"
   ]
  },
  {
   "cell_type": "code",
   "execution_count": 204,
   "id": "529f3f98-bcb5-4535-a992-9c3fbd46299f",
   "metadata": {},
   "outputs": [],
   "source": [
    "def divider(a,b):\n",
    "    return a/b"
   ]
  },
  {
   "cell_type": "code",
   "execution_count": 206,
   "id": "6fc4bac9-2dae-4c55-a277-3c79b4a4b451",
   "metadata": {},
   "outputs": [
    {
     "data": {
      "text/plain": [
       "0.5"
      ]
     },
     "execution_count": 206,
     "metadata": {},
     "output_type": "execute_result"
    }
   ],
   "source": [
    "divider(2,4)"
   ]
  },
  {
   "cell_type": "code",
   "execution_count": 208,
   "id": "094c6092-602c-4e08-bc2f-2e1b1049f958",
   "metadata": {},
   "outputs": [
    {
     "ename": "TypeError",
     "evalue": "unsupported operand type(s) for /: 'str' and 'str'",
     "output_type": "error",
     "traceback": [
      "\u001b[1;31m---------------------------------------------------------------------------\u001b[0m",
      "\u001b[1;31mTypeError\u001b[0m                                 Traceback (most recent call last)",
      "Cell \u001b[1;32mIn[208], line 1\u001b[0m\n\u001b[1;32m----> 1\u001b[0m \u001b[43mdivider\u001b[49m\u001b[43m \u001b[49m\u001b[43m(\u001b[49m\u001b[38;5;124;43m\"\u001b[39;49m\u001b[38;5;124;43mHusten\u001b[39;49m\u001b[38;5;124;43m\"\u001b[39;49m\u001b[43m,\u001b[49m\u001b[38;5;124;43m\"\u001b[39;49m\u001b[38;5;124;43mHu\u001b[39;49m\u001b[38;5;124;43m\"\u001b[39;49m\u001b[43m)\u001b[49m\n",
      "Cell \u001b[1;32mIn[204], line 2\u001b[0m, in \u001b[0;36mdivider\u001b[1;34m(a, b)\u001b[0m\n\u001b[0;32m      1\u001b[0m \u001b[38;5;28;01mdef\u001b[39;00m \u001b[38;5;21mdivider\u001b[39m(a,b):\n\u001b[1;32m----> 2\u001b[0m     \u001b[38;5;28;01mreturn\u001b[39;00m \u001b[43ma\u001b[49m\u001b[38;5;241;43m/\u001b[39;49m\u001b[43mb\u001b[49m\n",
      "\u001b[1;31mTypeError\u001b[0m: unsupported operand type(s) for /: 'str' and 'str'"
     ]
    }
   ],
   "source": [
    "divider (\"Husten\",\"Hu\")"
   ]
  },
  {
   "cell_type": "code",
   "execution_count": 210,
   "id": "6a9701cd-959b-4d88-978f-fb2fdc169565",
   "metadata": {},
   "outputs": [
    {
     "data": {
      "text/plain": [
       "0.5"
      ]
     },
     "execution_count": 210,
     "metadata": {},
     "output_type": "execute_result"
    }
   ],
   "source": [
    "divider(1.0, 2.0)"
   ]
  },
  {
   "cell_type": "code",
   "execution_count": null,
   "id": "16f08680-29cb-4db0-8f96-082b2ccb50dc",
   "metadata": {},
   "outputs": [],
   "source": []
  },
  {
   "cell_type": "code",
   "execution_count": null,
   "id": "7980ee23-857c-42c2-be61-38f46b089d31",
   "metadata": {},
   "outputs": [],
   "source": []
  }
 ],
 "metadata": {
  "kernelspec": {
   "display_name": "Python 3 (ipykernel)",
   "language": "python",
   "name": "python3"
  },
  "language_info": {
   "codemirror_mode": {
    "name": "ipython",
    "version": 3
   },
   "file_extension": ".py",
   "mimetype": "text/x-python",
   "name": "python",
   "nbconvert_exporter": "python",
   "pygments_lexer": "ipython3",
   "version": "3.12.3"
  }
 },
 "nbformat": 4,
 "nbformat_minor": 5
}
